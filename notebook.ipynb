{
 "cells": [
  {
   "cell_type": "markdown",
   "metadata": {},
   "source": [
    "# Fine-tune Hugging Face Model for Sequence Classification"
   ]
  },
  {
   "cell_type": "markdown",
   "metadata": {},
   "source": [
    "### Download & Visualize the Dataset"
   ]
  },
  {
   "cell_type": "code",
   "execution_count": 2,
   "metadata": {},
   "outputs": [],
   "source": [
    "from tasks.data import download_dataset, visualize_data"
   ]
  },
  {
   "cell_type": "code",
   "execution_count": 3,
   "metadata": {},
   "outputs": [
    {
     "name": "stdout",
     "output_type": "stream",
     "text": [
      "{'train': WindowsPath('datasets/imdb/train_data.csv'), 'val': WindowsPath('datasets/imdb/val_data.csv'), 'test': WindowsPath('datasets/imdb/test_data.csv')}\n"
     ]
    }
   ],
   "source": [
    "data_paths = download_dataset()\n",
    "print(data_paths)\n"
   ]
  },
  {
   "cell_type": "code",
   "execution_count": 5,
   "metadata": {},
   "outputs": [
    {
     "name": "stdout",
     "output_type": "stream",
     "text": [
      "Dataset: train\n",
      "                                                text  label\n",
      "0  I have always been a huge James Bond fanatic! ...      1\n",
      "1  I am a Christian and I say this movie had terr...      0\n",
      "2  Neatly sandwiched between THE STRANGER, a smal...      1\n",
      "3  Years ago I did follow a soap on TV. So I was ...      1\n",
      "4  Here's a gritty, get-the-bad guys revenge stor...      1\n",
      "Dataset: val\n",
      "                                                text  label\n",
      "0  That 70s Show is the best TV show ever, period...      1\n",
      "1  This is a must see for independant movie fans,...      1\n",
      "2  After watching this, I had lost a little respe...      0\n",
      "3  ...through the similarly minded antics of Eric...      0\n",
      "4  Everything I remember about it was excellent.....      1\n",
      "Dataset: test\n",
      "                                                text  label\n",
      "0  I love sci-fi and am willing to put up with a ...      0\n",
      "1  Worth the entertainment value of a rental, esp...      0\n",
      "2  its a totally average film with a few semi-alr...      0\n",
      "3  STAR RATING: ***** Saturday Night **** Friday ...      0\n",
      "4  First off let me say, If you haven't enjoyed a...      0\n"
     ]
    },
    {
     "data": {
      "text/plain": [
       "{'train': {'positive': 'I have always been a huge James Bond fanatic! I have seen almost all of the films except for Die Another Day, and The World Is Not Enough. The graphic\\'s for Everything Or Nothing are breathtaking! The voice talents......... WOW! I LOVE PIERCE BROSNAN! He is finally Bond in a video game! HE IS BOND! I enjoyed the past Bond games: Goldeneye, The World Is Not Enough, Agent Under Fire, and Nightfire. This one is definitely the best! Finally, Mr. Brosnan, (may I call him Mr. Brosnan as a sign of respect? Yes I can!) He was phenomenally exciting to hear in a video game....... AT LONG LAST! DUH! I\\'ve seen him perform with Robin Williams, and let me tell you, they make a great team. Pierce Brosnan is funny, wickedly handsome ( I mean to say wickedly in a good way,) and just one of those actor\\'s who you would want to walk up to and wrap your arms around and hug, saying: \"Pierce Brosnan, thank you for being James Bond,\" \"If it wasn\\'t for you, I wouldn\\'t know who James Bond is.\" He\\'s a great actor! I am a huge fan of Willem Dafoe even though I\\'ve seen him in a couple of movies. His role as Nikolai Diavalo was brilliant. (Did I spell the character\\'s name right?) LOL!!!! He does a great job with an accent. Sometimes I can\\'t even hear an accent. I have seen Willem, I mean Mr. Dafoe, perform in two movies: Finding Nemo, and Spider-Man with my favorite actress: KIRSTEN DUNST! SHE ROCKS! Anyway, He never ceases to amaze. And Richard Kiel, wow, he\\'s definitely got the part of Jaw\\'s nailed. I\\'ve seen him in the movie\\'s and he\\'s awesome! As a matter of fact, my Grandparent\\'s have met Mr. Kiel, and I was jealous when they told me. But, Kirsten Dunst is at the top of my list of Celebritie\\'s that I want to meet. John Cleese was breathtaking. I have never seen a better person play as the wisecracking, and gadget creating Q! Mr. Cleese was hilarious! I\\'ve seen him work with Pierce Brosnan in Goldeneye and Tommorow Never Dies. He\\'s awesome! John Cleese\\'s most recent project is Shrek 2 starring Mike Myer\\'s, Cameron Diaz, Julie Andrew\\'s and Eddie Murphy. ( Shrek 2 is now in theatre\\'s!) GOOD LUCK 007! Oh, yeah, and as Q alway\\'s says: \"Grow up 007!\"',\n",
       "  'negative': 'I am a Christian and I say this movie had terrible acting, unreal situations and a completely facade front for Christianity. You might as well watch \"Remember the Titans\" and at least not mix Christ in a football film like a formulaic steroid for losers. Let me make some really pressing comments of what bothered me in this film.<br /><br />1. The school was in Georgia and was a white academy school. I did not notice a single black student or player in the school. I deal with the White \"Christian\" Academies in the south and they were built for no other reason than to reestablish segregation. This is troubling when the movie is about Christianity and Christ changing lives...how about changing the hearts of segregation? (note: I loved the token black coach; like it made up for the entirely white team and all the black \\'Giants\\' players.) <br /><br />2. The uncritical acclaim by everyone Christian about this movie. Can I get a couple people to say that it was bad acting, bad filming, bad writing and in short poor compared to other movies. If we were to compare this to another football movie, would it have the same charisma and energy? <br /><br />3. The half-baked Christianity which was shown made even less sense to me than the unrealistic ending. If Christianity is about simply reading a little scripture and praying to begin a complete life change, then don\\'t wonder when no one will listen to what Christians have to say. We want to sell Christ as a cure-all. He doesn\\'t need sold and He doesn\\'t need to be attached to such whimsical lifestyles. No wonder everyone considers Christianity to be anti-intellectual with this unreal presentation.<br /><br />I recognize this film may be inspirational to a few people. To most, it will not be. It will not give a real picture of struggle and heartfelt tension. Most importantly to me, it is not Christian by any means or stretch. It has values but it falls short as a \\'pull-yourself-up-by-the-bootstraps\\' message as shallow as positive thinking. If you live alongside people who struggle and/or those in third world living conditions, this movie will be hollow as most churches are today in their religion.'},\n",
       " 'val': {'positive': \"That 70s Show is the best TV show ever, period. It's up there with the Andy Griffen Show, Saturday Night Live, and The Simpsons in my book. That 70s Show continued on for 8 seasons, all of which focus around a group of teenagers/young adults dealing with relationships, separating from their parents, and their overall futures.<br /><br />The two main characters, Eric and Donna, are two teenagers living next door to each other. They have been living next door to each other for most of their lives, and just begin to feel more feelings for each other at the beginning of the first season. A large amount of the show revolves around how their relationship is working.<br /><br />Two other characters, Red and Kitty, are Eric's parents. Red was in the service, so he really pushes Eric around. Kitty is just the opposite. Even though she drinks heavily, she treats Eric and his friends with a lot of care. Bob, their neighbor, is obviously Donna's Dad. Bob giggles around with several different women throughout the coarse of the show's story. Bob also annoys Red to his full extent.<br /><br />The remaining character, Hyde, Kelso, Fez, and Jackie, are Eric's friends. They also play a major role in the show's story.<br /><br />Well, the First Season is great. This is when the characters are beginning to feel new things for each other. The First Season is original, funny, and enjoyable.<br /><br />The Second Season is good, although it isn't as good as the first. It is a basic continuation of the First. Eric and Donna are together, and everything is working out great.<br /><br />The Third Season is my favorite. It went back and captured the First Season feel and humor. I also think that the character chemistry improved a bunch, making the show all that more fun to watch.<br /><br />The Fourth Season isn't near as good. Eric and Donna Arne't together in this one, making the show slightly less pleasurable. It is still funny, although I didn't enjoy it as much as the previous seasons.<br /><br />The Fifth Season is the last season I enjoyed all the way through. It is the gang's Senior Year, so that really helps with the story. The Fifth Season also had the best ending out of all the seasons.<br /><br />The Sixth Season is good for the most part. It is extremely funny, although it doesn't capture the feel that the other seasons did. The gang is out of High School, so I believe that it didn't hit the teen feel that the previous seasons did. I also didn't like the last three or four episodes considering that they had a major drama feel to them.<br /><br />The Seventh Season captures the same feel that the 5th season had in a way, although it didn't do it all the way. I enjoyed the Seventh Season as I did all the others, and the ending is great.<br /><br />The Last Season flat out sucked. Eric wasn't in it, which ruined it. Kelso wasn't in it for the most part either, which didn't help. I hated the Eighth Season up until the last episode. I thought that the last episode was really good, and a fitting ending to the series.<br /><br />So overall, if you enjoy comedy, give That 70s Show a try. They stopped making new episodes, but it is still on TV a bunch. I also recommend buying Seasons 1-7. It is up to you if you want to buy Season 8.\",\n",
       "  'negative': 'After watching this, I had lost a little respect for Christopher Lee (This has passed over time). This film was utter garbage. First, they tried to recreate the ending from the first \"Howling,\" with incredibly bad make-up. Then they try to turn it into a sad excuse of a werewolf porn film! The plot sucks and the whole film is just AWFUL!!!! A brother of a werewolf victim from the first film (From the look of it, it was SUPPOSED to be Dee Wallace Stone)teams up with Lee and another woman to destroy the group of werewolves, lead by Sybil Danning, who seems to be naked all the time.<br /><br />This is not even worth renting (Unless you want to waste your time and money watching the nudity.). Try to catch it on cable instead. It would be so chopped up, it may actually make sense.'},\n",
       " 'test': {'positive': \"Previous reviewer Claudio Carvalho gave a much better recap of the film's plot details than I could. What I recall mostly is that it was just so beautiful, in every sense - emotionally, visually, editorially - just gorgeous.<br /><br />If you like movies that are wonderful to look at, and also have emotional content to which that beauty is relevant, I think you will be glad to have seen this extraordinary and unusual work of art.<br /><br />On a scale of 1 to 10, I'd give it about an 8.75. The only reason I shy away from 9 is that it is a mood piece. If you are in the mood for a really artistic, very romantic film, then it's a 10. I definitely think it's a must-see, but none of us can be in that mood all the time, so, overall, 8.75.\",\n",
       "  'negative': 'I love sci-fi and am willing to put up with a lot. Sci-fi movies/TV are usually underfunded, under-appreciated and misunderstood. I tried to like this, I really did, but it is to good TV sci-fi as Babylon 5 is to Star Trek (the original). Silly prosthetics, cheap cardboard sets, stilted dialogues, CG that doesn\\'t match the background, and painfully one-dimensional characters cannot be overcome with a \\'sci-fi\\' setting. (I\\'m sure there are those of you out there who think Babylon 5 is good sci-fi TV. It\\'s not. It\\'s clichéd and uninspiring.) While US viewers might like emotion and character development, sci-fi is a genre that does not take itself seriously (cf. Star Trek). It may treat important issues, yet not as a serious philosophy. It\\'s really difficult to care about the characters here as they are not simply foolish, just missing a spark of life. Their actions and reactions are wooden and predictable, often painful to watch. The makers of Earth KNOW it\\'s rubbish as they have to always say \"Gene Roddenberry\\'s Earth...\" otherwise people would not continue watching. Roddenberry\\'s ashes must be turning in their orbit as this dull, cheap, poorly edited (watching it without advert breaks really brings this home) trudging Trabant of a show lumbers into space. Spoiler. So, kill off a main character. And then bring him back as another actor. Jeeez! Dallas all over again.'}}"
      ]
     },
     "execution_count": 5,
     "metadata": {},
     "output_type": "execute_result"
    }
   ],
   "source": [
    "visualize_data(data_paths)"
   ]
  },
  {
   "cell_type": "code",
   "execution_count": null,
   "metadata": {},
   "outputs": [],
   "source": []
  },
  {
   "cell_type": "markdown",
   "metadata": {},
   "source": []
  },
  {
   "cell_type": "code",
   "execution_count": null,
   "metadata": {},
   "outputs": [],
   "source": []
  },
  {
   "cell_type": "markdown",
   "metadata": {},
   "source": []
  },
  {
   "cell_type": "code",
   "execution_count": null,
   "metadata": {},
   "outputs": [],
   "source": []
  },
  {
   "cell_type": "markdown",
   "metadata": {},
   "source": []
  },
  {
   "cell_type": "code",
   "execution_count": null,
   "metadata": {},
   "outputs": [],
   "source": []
  },
  {
   "cell_type": "markdown",
   "metadata": {},
   "source": []
  },
  {
   "cell_type": "code",
   "execution_count": null,
   "metadata": {},
   "outputs": [],
   "source": []
  }
 ],
 "metadata": {
  "kernelspec": {
   "display_name": "venv",
   "language": "python",
   "name": "python3"
  },
  "language_info": {
   "codemirror_mode": {
    "name": "ipython",
    "version": 3
   },
   "file_extension": ".py",
   "mimetype": "text/x-python",
   "name": "python",
   "nbconvert_exporter": "python",
   "pygments_lexer": "ipython3",
   "version": "3.11.9"
  }
 },
 "nbformat": 4,
 "nbformat_minor": 2
}
